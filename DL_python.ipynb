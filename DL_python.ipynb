{
  "nbformat": 4,
  "nbformat_minor": 0,
  "metadata": {
    "colab": {
      "provenance": [],
      "toc_visible": true,
      "authorship_tag": "ABX9TyNoqv97KAq2isXfgtodAyhN",
      "include_colab_link": true
    },
    "kernelspec": {
      "name": "python3",
      "display_name": "Python 3"
    },
    "language_info": {
      "name": "python"
    }
  },
  "cells": [
    {
      "cell_type": "markdown",
      "metadata": {
        "id": "view-in-github",
        "colab_type": "text"
      },
      "source": [
        "<a href=\"https://colab.research.google.com/github/takemyt1me/DL_practice/blob/main/DL_python.ipynb\" target=\"_parent\"><img src=\"https://colab.research.google.com/assets/colab-badge.svg\" alt=\"Open In Colab\"/></a>"
      ]
    },
    {
      "cell_type": "markdown",
      "source": [
        "# Basic step"
      ],
      "metadata": {
        "id": "KteWm1Y-CYK4"
      }
    },
    {
      "cell_type": "markdown",
      "source": [
        "Basic python"
      ],
      "metadata": {
        "id": "rY3VCBP2HIt8"
      }
    },
    {
      "cell_type": "code",
      "execution_count": null,
      "metadata": {
        "colab": {
          "base_uri": "https://localhost:8080/"
        },
        "id": "nB7Juq2vFzJ8",
        "outputId": "baa5aa8b-ecf6-49ce-b735-a224c966682c"
      },
      "outputs": [
        {
          "output_type": "stream",
          "name": "stdout",
          "text": [
            "180\n",
            "I am sad!\n",
            "why are you sad?\n"
          ]
        }
      ],
      "source": [
        "me = {'name':'kyoungjin', 'age':18, 'nation':'korea', 'job':'army'}\n",
        "me['height']= 180\n",
        "\n",
        "print(me['height'])\n",
        "\n",
        "class happy:\n",
        "  def __init__(self, status):\n",
        "    self.status = status\n",
        "\n",
        "  def hry(self):\n",
        "    print('I am ' + self.status + '!')\n",
        "\n",
        "  def answer(self):\n",
        "    print('why are you ' + self.status + '?')\n",
        "\n",
        "m = happy(\"sad\")\n",
        "m.hry()\n",
        "m.answer()"
      ]
    },
    {
      "cell_type": "markdown",
      "source": [
        "Numpy"
      ],
      "metadata": {
        "id": "ECgtkd6NI93M"
      }
    },
    {
      "cell_type": "code",
      "source": [
        "import numpy as np\n",
        "\n",
        "x = np.array([1.0, 2.0, 3.0])\n",
        "y = np.array([2.0, 4.0, 6.0])\n",
        "\n",
        "print(x+y)\n",
        "print(x-y)\n",
        "print(x*y)\n",
        "print(x/y)\n",
        "\n",
        "A = np.array([[1,2], [3,4]])\n",
        "print(A.shape)\n",
        "print(A.dtype)"
      ],
      "metadata": {
        "colab": {
          "base_uri": "https://localhost:8080/"
        },
        "id": "Br-McLV7I_6c",
        "outputId": "cbe6d201-c75e-41b4-e28b-295fbb1c9c7f"
      },
      "execution_count": null,
      "outputs": [
        {
          "output_type": "stream",
          "name": "stdout",
          "text": [
            "[3. 6. 9.]\n",
            "[-1. -2. -3.]\n",
            "[ 2.  8. 18.]\n",
            "[0.5 0.5 0.5]\n",
            "(2, 2)\n",
            "int64\n"
          ]
        }
      ]
    },
    {
      "cell_type": "markdown",
      "source": [
        "matplotlib"
      ],
      "metadata": {
        "id": "0dR-q4qvK6au"
      }
    },
    {
      "cell_type": "code",
      "source": [
        "import numpy as np\n",
        "import matplotlib.pyplot as plt\n",
        "\n",
        "x = np.arange(0, 6, 0.1)\n",
        "y = np.sin(x)\n",
        "\n",
        "plt.plot(x,y)\n",
        "plt.show()"
      ],
      "metadata": {
        "colab": {
          "base_uri": "https://localhost:8080/",
          "height": 430
        },
        "id": "EvmCt4KkK9IB",
        "outputId": "af194438-3ced-4af3-f751-f58275206c39"
      },
      "execution_count": null,
      "outputs": [
        {
          "output_type": "display_data",
          "data": {
            "text/plain": [
              "<Figure size 640x480 with 1 Axes>"
            ],
            "image/png": "[encoded data removed]"
          },
          "metadata": {}
        }
      ]
    },
    {
      "cell_type": "markdown",
      "source": [
        "# Perceptron"
      ],
      "metadata": {
        "id": "mGwC1-QfCdVA"
      }
    },
    {
      "cell_type": "markdown",
      "source": [
        "AND gate"
      ],
      "metadata": {
        "id": "MErNmipOG0JF"
      }
    },
    {
      "cell_type": "code",
      "source": [
        "def AND(x1, x2):\n",
        "  w1, w2, theta = 1.0, 1.0, 1.0\n",
        "  tmp = w1*x1 + w2*x2\n",
        "  if tmp <= theta:\n",
        "    return 0\n",
        "  elif tmp > theta:\n",
        "    return 1\n",
        "\n",
        "a, b = map(int, input().split())\n",
        "print(AND(a, b))"
      ],
      "metadata": {
        "colab": {
          "base_uri": "https://localhost:8080/"
        },
        "id": "Z6Q0cmwtCh4I",
        "outputId": "eccf3840-f7a0-49a1-ddce-5b4e9bd06dc8"
      },
      "execution_count": null,
      "outputs": [
        {
          "output_type": "stream",
          "name": "stdout",
          "text": [
            "1 1\n",
            "1\n"
          ]
        }
      ]
    },
    {
      "cell_type": "markdown",
      "source": [
        "numpy로 구현"
      ],
      "metadata": {
        "id": "7BTKxlqxHcXu"
      }
    },
    {
      "cell_type": "code",
      "source": [
        "import numpy as np\n",
        "\n",
        "x = np.array([1, 1])\n",
        "w = np.array([0.5, 0.5])\n",
        "b = -0.7\n",
        "\n",
        "result = np.sum(w*x)+b\n",
        "\n",
        "if result <= 0:\n",
        "  print(0)\n",
        "else:\n",
        "  print(1)"
      ],
      "metadata": {
        "colab": {
          "base_uri": "https://localhost:8080/"
        },
        "id": "UeQPBIbeG6Qu",
        "outputId": "6c46ee68-2d69-4561-cdbd-15d26862472f"
      },
      "execution_count": null,
      "outputs": [
        {
          "output_type": "stream",
          "name": "stdout",
          "text": [
            "1\n"
          ]
        }
      ]
    },
    {
      "cell_type": "markdown",
      "source": [
        "NAND gate / OR gate"
      ],
      "metadata": {
        "id": "BYOJaCn9G2sV"
      }
    },
    {
      "cell_type": "code",
      "source": [
        "import numpy as np\n",
        "\n",
        "#NAND gate\n",
        "def NAND(x1, x2):\n",
        "  x = np.array([x1, x2])\n",
        "  w = np.array([-0.5, -0.5])\n",
        "  b = 0.7\n",
        "  tmp = np.sum(w*x) +b\n",
        "\n",
        "  if tmp <=0:\n",
        "    return 0\n",
        "\n",
        "  else:\n",
        "    return 1\n",
        "\n",
        "#OR gate\n",
        "def OR(x1, x2):\n",
        "  x = np.array([x1, x2])\n",
        "  w = np.array([1.0, 1.0])\n",
        "  b = -0.7\n",
        "  tmp = np.sum(w*x) +b\n",
        "\n",
        "  if tmp <=0:\n",
        "    return 0\n",
        "\n",
        "  else:\n",
        "    return 1\n",
        "#input test\n",
        "print(NAND(0, 0))\n",
        "print(NAND(1, 0))\n",
        "print(NAND(0, 1))\n",
        "print(NAND(1, 1))\n",
        "\n",
        "print(OR(0, 0))\n",
        "print(OR(1, 0))\n",
        "print(OR(0, 1))\n",
        "print(OR(1, 1))"
      ],
      "metadata": {
        "colab": {
          "base_uri": "https://localhost:8080/"
        },
        "id": "GLh3DgC7G4N5",
        "outputId": "3defa594-0cb2-4f5a-8356-e1877ca5e949"
      },
      "execution_count": null,
      "outputs": [
        {
          "output_type": "stream",
          "name": "stdout",
          "text": [
            "1\n",
            "1\n",
            "1\n",
            "0\n",
            "0\n",
            "1\n",
            "1\n",
            "1\n"
          ]
        }
      ]
    },
    {
      "cell_type": "markdown",
      "source": [
        "XOR gate"
      ],
      "metadata": {
        "id": "1AGAGS2hLhJV"
      }
    },
    {
      "cell_type": "code",
      "source": [
        "import numpy as np\n",
        "\n",
        "#AND gate\n",
        "def AND(x1, x2):\n",
        "  x = np.array([x1, x2])\n",
        "  w = np.array([0.5, 0.5])\n",
        "  b = -0.7\n",
        "  tmp = np.sum(w*x) +b\n",
        "\n",
        "  if tmp <=0:\n",
        "    return 0\n",
        "  else:\n",
        "    return 1\n",
        "\n",
        "#NAND gate\n",
        "def NAND(x1, x2):\n",
        "  x = np.array([x1, x2])\n",
        "  w = np.array([-0.5, -0.5])\n",
        "  b = 0.7\n",
        "  tmp = np.sum(w*x) +b\n",
        "\n",
        "  if tmp <=0:\n",
        "    return 0\n",
        "  else:\n",
        "    return 1\n",
        "\n",
        "#OR gate\n",
        "def OR(x1, x2):\n",
        "  x = np.array([x1, x2])\n",
        "  w = np.array([1.0, 1.0])\n",
        "  b = -0.7\n",
        "  tmp = np.sum(w*x) +b\n",
        "\n",
        "  if tmp <=0:\n",
        "    return 0\n",
        "  else:\n",
        "    return 1\n",
        "\n",
        "#XOR gate\n",
        "def XOR(x1, x2):\n",
        " s1 = NAND(x1, x2)\n",
        " s2 = OR(x1, x2)\n",
        " y = AND(s1, s2)\n",
        "\n",
        " return y\n",
        "\n",
        "\n",
        "print(XOR(0, 0))\n",
        "print(XOR(1, 0))\n",
        "print(XOR(0, 1))\n",
        "print(XOR(1, 1))"
      ],
      "metadata": {
        "colab": {
          "base_uri": "https://localhost:8080/"
        },
        "id": "o0x8KaE6Lklo",
        "outputId": "fdc224b2-6185-4694-bc59-54ed33d51ddf"
      },
      "execution_count": null,
      "outputs": [
        {
          "output_type": "stream",
          "name": "stdout",
          "text": [
            "0\n",
            "1\n",
            "1\n",
            "0\n"
          ]
        }
      ]
    },
    {
      "cell_type": "markdown",
      "source": [
        "# Neural Network"
      ],
      "metadata": {
        "id": "rJ7NiyH4RaOI"
      }
    },
    {
      "cell_type": "markdown",
      "source": [
        "Step function"
      ],
      "metadata": {
        "id": "7pniZzQJUz6p"
      }
    },
    {
      "cell_type": "code",
      "source": [
        "#Step function by numpy\n",
        "import numpy as np\n",
        "import matplotlib.pylab as plt\n",
        "\n",
        "def step_function(x):\n",
        "  y = x > 0\n",
        "  return y.astype(np.int64)\n",
        "\n",
        "x = np.arange(-5.0, 5.0, 0.1)\n",
        "y = step_function(x)\n",
        "plt.plot(x, y)\n",
        "plt.ylim(-0.1, 1.1)\n",
        "plt.show()"
      ],
      "metadata": {
        "colab": {
          "base_uri": "https://localhost:8080/",
          "height": 430
        },
        "id": "UaQk17n8Regp",
        "outputId": "1921f605-dcab-4383-94b3-9d1953ce7869"
      },
      "execution_count": null,
      "outputs": [
        {
          "output_type": "display_data",
          "data": {
            "text/plain": [
              "<Figure size 640x480 with 1 Axes>"
            ],
            "image/png": "[encoded data removed]"
          },
          "metadata": {}
        }
      ]
    },
    {
      "cell_type": "markdown",
      "source": [
        "Sigmoid function"
      ],
      "metadata": {
        "id": "3vCRinKvUoqv"
      }
    },
    {
      "cell_type": "code",
      "source": [
        "#Sigmooid function by numpy\n",
        "\n",
        "import numpy as np\n",
        "import matplotlib.pylab as plt\n",
        "\n",
        "def sigmoid(x):\n",
        "  return 1/(1+np.exp(-x))\n",
        "\n",
        "x = np.arange(-5.0, 5.0, 0.1)\n",
        "y = sigmoid(x)\n",
        "plt.plot(x, y)\n",
        "plt.ylim(-0.1, 1.1)\n",
        "plt.show()"
      ],
      "metadata": {
        "colab": {
          "base_uri": "https://localhost:8080/",
          "height": 430
        },
        "id": "SVGFV6OYUyoL",
        "outputId": "f1b51f23-f01e-4832-9420-35356bef2801"
      },
      "execution_count": null,
      "outputs": [
        {
          "output_type": "display_data",
          "data": {
            "text/plain": [
              "<Figure size 640x480 with 1 Axes>"
            ],
            "image/png": "[encoded data removed]"
          },
          "metadata": {}
        }
      ]
    },
    {
      "cell_type": "markdown",
      "source": [
        "Multi-dimensional array"
      ],
      "metadata": {
        "id": "cIbnCA6rankW"
      }
    },
    {
      "cell_type": "code",
      "source": [
        "import numpy as np\n",
        "\n",
        "A=np.array([[1,2,3],[4,5,6]])\n",
        "B=np.array([[1,2],[3,4],[5,6]])\n",
        "\n",
        "print(A.shape)\n",
        "print(B.shape)\n",
        "print(np.dot(A,B))"
      ],
      "metadata": {
        "colab": {
          "base_uri": "https://localhost:8080/"
        },
        "id": "iKNv_jn6au5e",
        "outputId": "8a50901f-5298-45c0-ee43-78b7b6475a36"
      },
      "execution_count": null,
      "outputs": [
        {
          "output_type": "stream",
          "name": "stdout",
          "text": [
            "(2, 3)\n",
            "(3, 2)\n",
            "[[22 28]\n",
            " [49 64]]\n"
          ]
        }
      ]
    },
    {
      "cell_type": "code",
      "source": [
        "import numpy as np\n",
        "\n",
        "def sigmoid(x):\n",
        "  return 1/(1+np.exp(-x))\n",
        "\n",
        "X = np.array([1.0, 0.5])\n",
        "W1 = np.array([[0.1, 0.3, 0.5], [0.2, 0.4, 0.6]])\n",
        "B1 = np.array([0.1, 0.2, 0.3])\n",
        "\n",
        "A1 = np.dot(X,W1) + B1\n",
        "Z1 = sigmoid(A1)\n",
        "\n",
        "print(A1)\n",
        "print(Z1)\n"
      ],
      "metadata": {
        "colab": {
          "base_uri": "https://localhost:8080/"
        },
        "id": "KbybrKstdepM",
        "outputId": "19570293-5154-4211-f5d0-d1d59c651273"
      },
      "execution_count": null,
      "outputs": [
        {
          "output_type": "stream",
          "name": "stdout",
          "text": [
            "[0.3 0.7 1.1]\n",
            "[0.57444252 0.66818777 0.75026011]\n"
          ]
        }
      ]
    },
    {
      "cell_type": "markdown",
      "source": [
        "3-layer Neural Network"
      ],
      "metadata": {
        "id": "6wG92oJQn0Ly"
      }
    },
    {
      "cell_type": "code",
      "source": [
        "import numpy as np\n",
        "\n",
        "def sigmoid(x):\n",
        "  return 1/(1+np.exp(-x))\n",
        "\n",
        "def identity_function(x):\n",
        "  return x\n",
        "\n",
        "#Network structure\n",
        "def init_network():\n",
        "  network = {}\n",
        "  network['W1'] = np.array([[0.1, 0.3, 0.5], [0.2, 0.4, 0.6]])\n",
        "  network['b1']= np.array([0.1, 0.2, 0.3])\n",
        "  network['W2'] = np.array([[0.1, 0.4], [0.2, 0.5], [0.3, 0.6]])\n",
        "  network['b2']= np.array([0.1, 0.2])\n",
        "  network['W3'] = np.array([[0.1, 0.3], [0.2, 0.4]])\n",
        "  network['b3']= np.array([0.1, 0.2])\n",
        "\n",
        "  return network\n",
        "\n",
        "def forward(network, x):\n",
        "  W1, W2, W3 = network['W1'], network['W2'], network['W3']\n",
        "  b1, b2, b3 = network['b1'], network['b2'], network['b3']\n",
        "\n",
        "  a1 = np.dot(x, W1) + b1\n",
        "  z1 = sigmoid(a1)\n",
        "  a2 = np.dot(z1,W2) + b2\n",
        "  z2 = sigmoid(a2)\n",
        "  a3 = np.dot(z2, W3) + b3\n",
        "  y = identity_function(a3)\n",
        "\n",
        "  return y\n",
        "\n",
        "network = init_network()\n",
        "x = np.array([1.0, 0.5])\n",
        "y = forward(network, x)\n",
        "print(y)"
      ],
      "metadata": {
        "colab": {
          "base_uri": "https://localhost:8080/"
        },
        "id": "1QXdREWEn5WR",
        "outputId": "25b4164b-8f44-4e8c-9ba1-07699aa6e4d5"
      },
      "execution_count": 1,
      "outputs": [
        {
          "output_type": "stream",
          "name": "stdout",
          "text": [
            "[0.31682708 0.69627909]\n"
          ]
        }
      ]
    },
    {
      "cell_type": "markdown",
      "source": [
        "Softmax function"
      ],
      "metadata": {
        "id": "HbMsk5IJpvqH"
      }
    },
    {
      "cell_type": "code",
      "source": [
        "import numpy as np\n",
        "\n",
        "def softmax(a):\n",
        "  c = np.max(a)\n",
        "  exp_a = np.exp(a-c)\n",
        "  sum_exp_a = np.sum(exp_a)\n",
        "  y = exp_a / sum_exp_a\n",
        "\n",
        "  return y\n",
        "\n",
        "a = np.array([0.3, 2.9, 4.0])\n",
        "y = softmax(a)\n",
        "print(y)\n",
        "print(np.sum(y))"
      ],
      "metadata": {
        "colab": {
          "base_uri": "https://localhost:8080/"
        },
        "id": "7cuXFGaIpzPn",
        "outputId": "54e2aa29-4d73-4dc7-da50-48fd294aab65"
      },
      "execution_count": 4,
      "outputs": [
        {
          "output_type": "stream",
          "name": "stdout",
          "text": [
            "[0.01821127 0.24519181 0.73659691]\n",
            "1.0\n"
          ]
        }
      ]
    }
  ]
}